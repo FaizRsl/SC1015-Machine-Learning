{
 "cells": [
  {
   "cell_type": "code",
   "execution_count": 142,
   "metadata": {},
   "outputs": [],
   "source": [
    "import numpy as np\n",
    "import pandas as pd"
   ]
  },
  {
   "cell_type": "code",
   "execution_count": 143,
   "metadata": {},
   "outputs": [],
   "source": [
    "finaldf = pd.read_html(\"https://en.wikipedia.org/wiki/2000_Summer_Olympics_medal_table\")\n",
    "finaldf = finaldf[2].head(20)\n",
    "#finaldf[\"Year\"] = 2000\n",
    "#print(finaldf)"
   ]
  },
  {
   "cell_type": "code",
   "execution_count": 144,
   "metadata": {},
   "outputs": [],
   "source": [
    "for i in range(1,5):\n",
    "    i *= 4\n",
    "    if(i<10):\n",
    "        editedlink = \"https://en.wikipedia.org/wiki/200\" + str(i) + \"_Summer_Olympics_medal_table\"\n",
    "    else:\n",
    "        editedlink = \"https://en.wikipedia.org/wiki/20\" + str(i) + \"_Summer_Olympics_medal_table\"\n",
    "    \n",
    "    if(i<8):\n",
    "        year = \"200\" + str(i)\n",
    "        yearval = int(year)\n",
    "        #print(yearval)\n",
    "        df1 = pd.read_html(editedlink)\n",
    "        top20country = df1[2].head(20)\n",
    "        #top20country[\"Year\"] = int(yearval)\n",
    "        #finaldf = pd.concat([finaldf,top20country], axis=0, ignore_index=False)\n",
    "    else:\n",
    "        if(i<10):\n",
    "            year = \"200\" + str(i)\n",
    "            yearval = int(year)\n",
    "        else:\n",
    "            year = \"20\" + str(i)\n",
    "            yearval = int(year)\n",
    "        df1 = pd.read_html(editedlink)\n",
    "        top20country = df1[2].head(20)\n",
    "        top20country = top20country.rename(columns={'NOC': 'Nation'})\n",
    "        #print(yearval)\n",
    "        #top20country[\"Year\"] = int(yearval)\n",
    "        #finaldf = pd.concat([finaldf,top20country], axis=0, ignore_index=False)\n",
    "    finaldf = pd.concat([finaldf,top20country], axis=0, ignore_index=False)     "
   ]
  },
  {
   "cell_type": "code",
   "execution_count": 145,
   "metadata": {},
   "outputs": [
    {
     "name": "stdout",
     "output_type": "stream",
     "text": [
      "   Rank         Nation  Gold  Silver  Bronze  Total\n",
      "0     1  United States    37      24      32     93\n",
      "1     2         Russia    32      28      29     89\n",
      "2     3          China    28      16      14     58\n",
      "3     4     Australia*    16      25      17     58\n",
      "4     5        Germany    13      17      26     56\n",
      "..  ...            ...   ...     ...     ...    ...\n",
      "15   16        Jamaica     6       3       2     11\n",
      "16   17        Croatia     5       3       2     10\n",
      "17   18           Cuba     5       2       4     11\n",
      "18   19    New Zealand     4       9       5     18\n",
      "19   20         Canada     4       3      15     22\n",
      "\n",
      "[100 rows x 6 columns]\n"
     ]
    }
   ],
   "source": [
    "print(finaldf)"
   ]
  },
  {
   "cell_type": "code",
   "execution_count": null,
   "metadata": {},
   "outputs": [],
   "source": []
  }
 ],
 "metadata": {
  "kernelspec": {
   "display_name": "Python 3",
   "language": "python",
   "name": "python3"
  },
  "language_info": {
   "codemirror_mode": {
    "name": "ipython",
    "version": 3
   },
   "file_extension": ".py",
   "mimetype": "text/x-python",
   "name": "python",
   "nbconvert_exporter": "python",
   "pygments_lexer": "ipython3",
   "version": "3.7.4"
  }
 },
 "nbformat": 4,
 "nbformat_minor": 2
}
